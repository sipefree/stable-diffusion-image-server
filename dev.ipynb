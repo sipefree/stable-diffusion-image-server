{
 "cells": [
  {
   "cell_type": "code",
   "execution_count": 1,
   "metadata": {},
   "outputs": [],
   "source": [
    "# enable autoreload\n",
    "%load_ext autoreload\n",
    "%autoreload 2\n",
    "\n",
    "# import standard libraries\n",
    "import os\n",
    "import sys\n",
    "from pathlib import Path\n",
    "from typing import cast, Any, Dict, List, Optional, Union, Tuple, Callable, Awaitable, Iterable, TypeVar, Generic, Type, ClassVar, Set, NamedTuple\n"
   ]
  },
  {
   "cell_type": "code",
   "execution_count": 2,
   "metadata": {},
   "outputs": [],
   "source": [
    "from sdis.model.service import DBService, DBBase\n",
    "from sdis.model.albums import Album, AlbumKeys, AlbumService, AlbumImport"
   ]
  },
  {
   "cell_type": "code",
   "execution_count": 3,
   "metadata": {},
   "outputs": [
    {
     "name": "stdout",
     "output_type": "stream",
     "text": [
      "/sdis-content/txt2img-images/2023-03-07\n",
      "/sdis-content/txt2img-images/2023-03-09\n",
      "/sdis-content/txt2img-images/2023-03-08\n"
     ]
    }
   ],
   "source": [
    "sdis_content = Path('/sdis-content')\n",
    "out_content = Path('/data/www/')\n",
    "txt2img_images = sdis_content / 'txt2img-images'\n",
    "\n",
    "for p in txt2img_images.iterdir():\n",
    "    if p.is_dir():\n",
    "        print(p)"
   ]
  },
  {
   "cell_type": "code",
   "execution_count": 4,
   "metadata": {},
   "outputs": [],
   "source": [
    "p_2023_03_07 = txt2img_images / '2023-03-07'"
   ]
  },
  {
   "cell_type": "code",
   "execution_count": 5,
   "metadata": {},
   "outputs": [
    {
     "data": {
      "text/plain": [
       "\"Album(id='album:txt2img-images/2023-03-07', name='2023-03-07', original_path=PosixPath('/sdis-content/txt2img-images/2023-03-07'), generated_path=None, thumbnail_path=None, created=DateTime(2023, 3, 7, 0, 0, 0, tzinfo=Timezone('America/Vancouver')))\""
      ]
     },
     "execution_count": 5,
     "metadata": {},
     "output_type": "execute_result"
    }
   ],
   "source": [
    "album_import = AlbumImport(basepath=sdis_content)\n",
    "\n",
    "alb1 = album_import.load_from_path(p_2023_03_07)\n",
    "repr(alb1)"
   ]
  },
  {
   "cell_type": "code",
   "execution_count": 6,
   "metadata": {},
   "outputs": [
    {
     "data": {
      "text/plain": [
       "True"
      ]
     },
     "execution_count": 6,
     "metadata": {},
     "output_type": "execute_result"
    }
   ],
   "source": [
    "from redis.client import Redis\n",
    "\n",
    "redis = Redis(db=1)\n",
    "redis.flushdb()"
   ]
  },
  {
   "cell_type": "code",
   "execution_count": 7,
   "metadata": {},
   "outputs": [],
   "source": [
    "albkeys = AlbumKeys(basepath=sdis_content)\n",
    "albkey1 = albkeys.album_key(alb1)"
   ]
  },
  {
   "cell_type": "code",
   "execution_count": 8,
   "metadata": {},
   "outputs": [
    {
     "data": {
      "text/plain": [
       "{'id': 'album:txt2img-images/2023-03-07',\n",
       " 'name': '2023-03-07',\n",
       " 'original_path': '/sdis-content/txt2img-images/2023-03-07',\n",
       " 'generated_path': None,\n",
       " 'thumbnail_path': None,\n",
       " 'created': '2023-03-07T00:00:00-08:00'}"
      ]
     },
     "execution_count": 8,
     "metadata": {},
     "output_type": "execute_result"
    }
   ],
   "source": [
    "conv = DBBase.make_converter()\n",
    "albdict1 = conv.unstructure(alb1)\n",
    "albdict1"
   ]
  },
  {
   "cell_type": "code",
   "execution_count": 9,
   "metadata": {},
   "outputs": [
    {
     "data": {
      "text/plain": [
       "True"
      ]
     },
     "execution_count": 9,
     "metadata": {},
     "output_type": "execute_result"
    }
   ],
   "source": [
    "\n",
    "redisjson = redis.json()\n",
    "redisjson.set(albkey1, '$', conv.unstructure(alb1))"
   ]
  },
  {
   "cell_type": "code",
   "execution_count": 10,
   "metadata": {},
   "outputs": [
    {
     "data": {
      "text/plain": [
       "[b'album:txt2img-images/2023-03-07']"
      ]
     },
     "execution_count": 10,
     "metadata": {},
     "output_type": "execute_result"
    }
   ],
   "source": [
    "albkeys: list[str] = list(redis.scan_iter('album:*')) # type: ignore\n",
    "albkeys"
   ]
  },
  {
   "cell_type": "code",
   "execution_count": 11,
   "metadata": {},
   "outputs": [
    {
     "data": {
      "text/plain": [
       "Album(id='album:txt2img-images/2023-03-07', name='2023-03-07', original_path=PosixPath('/sdis-content/txt2img-images/2023-03-07'), generated_path=None, thumbnail_path=None, created=DateTime(2023, 3, 7, 0, 0, 0, tzinfo=Timezone('-08:00')))"
      ]
     },
     "execution_count": 11,
     "metadata": {},
     "output_type": "execute_result"
    }
   ],
   "source": [
    "alb1_fromdb_result: list = redisjson.get(albkeys[0], '$') # type: ignore\n",
    "alb1_fromdb: Album = conv.structure(alb1_fromdb_result[0], Album)\n",
    "alb1_fromdb"
   ]
  },
  {
   "cell_type": "code",
   "execution_count": 12,
   "metadata": {},
   "outputs": [
    {
     "data": {
      "text/plain": [
       "('/', 'sdis-content', 'txt2img-images', '2023-03-07')"
      ]
     },
     "execution_count": 12,
     "metadata": {},
     "output_type": "execute_result"
    }
   ],
   "source": [
    "from urllib.parse import quote\n",
    "\n",
    "def encode_path_components(path: Path) -> str:\n",
    "    # Encode each component, allowing spaces to remain unencoded\n",
    "    encoded_components = [quote(part, safe=\" \") for part in path.parts]\n",
    "    # Join the components back together\n",
    "    return \"/\".join(encoded_components)\n",
    "\n",
    "alb1.original_path.parts"
   ]
  },
  {
   "cell_type": "code",
   "execution_count": 13,
   "metadata": {},
   "outputs": [
    {
     "data": {
      "text/plain": [
       "True"
      ]
     },
     "execution_count": 13,
     "metadata": {},
     "output_type": "execute_result"
    }
   ],
   "source": [
    "alb1_fromdb == alb1"
   ]
  },
  {
   "cell_type": "code",
   "execution_count": 23,
   "metadata": {},
   "outputs": [
    {
     "data": {
      "text/plain": [
       "['album:txt2img-images/2023-03-07',\n",
       " 'album:txt2img-images/2023-03-09',\n",
       " 'album:txt2img-images/2023-03-08']"
      ]
     },
     "execution_count": 23,
     "metadata": {},
     "output_type": "execute_result"
    }
   ],
   "source": [
    "alb_txt2img = album_import.load_from_path(txt2img_images)\n",
    "alb_txt2img_subpaths = [p for p in txt2img_images.iterdir() if p.is_dir()]\n",
    "alb_txt2img_subalbums = [album_import.load_from_path(p) for p in alb_txt2img_subpaths]\n",
    "alb_txt2img_subalbum_keys = [album_import.album_key(a) for a in alb_txt2img_subalbums]\n",
    "alb_txt2img_subalbum_keys\n"
   ]
  },
  {
   "cell_type": "code",
   "execution_count": 25,
   "metadata": {},
   "outputs": [
    {
     "data": {
      "text/plain": [
       "3"
      ]
     },
     "execution_count": 25,
     "metadata": {},
     "output_type": "execute_result"
    }
   ],
   "source": [
    "alb_txt2img_subalbums_key = album_import.subalbums_key(alb_txt2img)\n",
    "redis.sadd(alb_txt2img_subalbums_key, *alb_txt2img_subalbum_keys)"
   ]
  },
  {
   "cell_type": "code",
   "execution_count": 32,
   "metadata": {},
   "outputs": [],
   "source": [
    "members = cast(set[bytes], redis.smembers(alb_txt2img_subalbums_key))"
   ]
  },
  {
   "cell_type": "code",
   "execution_count": null,
   "metadata": {},
   "outputs": [],
   "source": []
  }
 ],
 "metadata": {
  "kernelspec": {
   "display_name": ".venv",
   "language": "python",
   "name": "python3"
  },
  "language_info": {
   "codemirror_mode": {
    "name": "ipython",
    "version": 3
   },
   "file_extension": ".py",
   "mimetype": "text/x-python",
   "name": "python",
   "nbconvert_exporter": "python",
   "pygments_lexer": "ipython3",
   "version": "3.11.4"
  },
  "orig_nbformat": 4
 },
 "nbformat": 4,
 "nbformat_minor": 2
}
